{
 "cells": [
  {
   "cell_type": "markdown",
   "metadata": {},
   "source": [
    "## Mean Codes"
   ]
  },
  {
   "cell_type": "markdown",
   "metadata": {},
   "source": [
    "### Step 1 : Print the Data List"
   ]
  },
  {
   "cell_type": "code",
   "execution_count": 65,
   "metadata": {},
   "outputs": [],
   "source": [
    "# First print the data list\n",
    "\n",
    "def print_data(data):\n",
    "    for item in data:\n",
    "        print(data)"
   ]
  },
  {
   "cell_type": "code",
   "execution_count": 130,
   "metadata": {},
   "outputs": [
    {
     "name": "stdout",
     "output_type": "stream",
     "text": [
      "[100, 100, 90, 40, 80, 100, 85, 70, 90, 65, 90, 85, 50.5]\n",
      "[100, 100, 90, 40, 80, 100, 85, 70, 90, 65, 90, 85, 50.5]\n",
      "[100, 100, 90, 40, 80, 100, 85, 70, 90, 65, 90, 85, 50.5]\n",
      "[100, 100, 90, 40, 80, 100, 85, 70, 90, 65, 90, 85, 50.5]\n",
      "[100, 100, 90, 40, 80, 100, 85, 70, 90, 65, 90, 85, 50.5]\n",
      "[100, 100, 90, 40, 80, 100, 85, 70, 90, 65, 90, 85, 50.5]\n",
      "[100, 100, 90, 40, 80, 100, 85, 70, 90, 65, 90, 85, 50.5]\n",
      "[100, 100, 90, 40, 80, 100, 85, 70, 90, 65, 90, 85, 50.5]\n",
      "[100, 100, 90, 40, 80, 100, 85, 70, 90, 65, 90, 85, 50.5]\n",
      "[100, 100, 90, 40, 80, 100, 85, 70, 90, 65, 90, 85, 50.5]\n",
      "[100, 100, 90, 40, 80, 100, 85, 70, 90, 65, 90, 85, 50.5]\n",
      "[100, 100, 90, 40, 80, 100, 85, 70, 90, 65, 90, 85, 50.5]\n",
      "[100, 100, 90, 40, 80, 100, 85, 70, 90, 65, 90, 85, 50.5]\n"
     ]
    }
   ],
   "source": [
    "data = [100, 100, 90, 40, 80, 100, 85, 70, 90, 65, 90, 85, 50.5]\n",
    "\n",
    "print_data(data)"
   ]
  },
  {
   "cell_type": "markdown",
   "metadata": {},
   "source": [
    "### Step 2 : Calculate the sum"
   ]
  },
  {
   "cell_type": "code",
   "execution_count": 131,
   "metadata": {},
   "outputs": [],
   "source": [
    "# Calculate the sum\n",
    "\n",
    "def sum_data(data):\n",
    "    total = 0\n",
    "    for item in data: \n",
    "        total += item\n",
    "    return total"
   ]
  },
  {
   "cell_type": "code",
   "execution_count": 132,
   "metadata": {},
   "outputs": [
    {
     "data": {
      "text/plain": [
       "1045.5"
      ]
     },
     "execution_count": 132,
     "metadata": {},
     "output_type": "execute_result"
    }
   ],
   "source": [
    "sum_data(data)"
   ]
  },
  {
   "cell_type": "markdown",
   "metadata": {},
   "source": [
    "### Step 3 : Take the average(mean) by adding up each grade\n",
    "###### ***The mean is the average of the numbers. It is easy to calculate: add up all the numbers, then divide by how many numbers there are. "
   ]
  },
  {
   "cell_type": "code",
   "execution_count": 133,
   "metadata": {},
   "outputs": [],
   "source": [
    "# Take the average by adding up each grade    \n",
    "\n",
    "def data_mean(data):\n",
    "    sum_of_data = sum_data(data)\n",
    "    mean = sum_of_data / float(len(data))\n",
    "    return mean"
   ]
  },
  {
   "cell_type": "code",
   "execution_count": 134,
   "metadata": {},
   "outputs": [
    {
     "data": {
      "text/plain": [
       "80.42307692307692"
      ]
     },
     "execution_count": 134,
     "metadata": {},
     "output_type": "execute_result"
    }
   ],
   "source": [
    "data_mean(data)"
   ]
  },
  {
   "cell_type": "markdown",
   "metadata": {},
   "source": [
    "### Step 4 : Calculate the Variance\n",
    "[Variance & Standard Deviation Formula](https://www.sciencebuddies.org/science-fair-projects/science-fair/variance-and-standard-deviation)"
   ]
  },
  {
   "cell_type": "code",
   "execution_count": 135,
   "metadata": {},
   "outputs": [],
   "source": [
    "# The Variance :subtracting each score from the average/mean and then taking square and rolling the sum. \n",
    "\n",
    "def data_variance(scores):\n",
    "    mean = data_mean(scores)\n",
    "    variance = 0\n",
    "    for score in scores:\n",
    "        variance = variance + (mean - score) ** 2\n",
    "    \n",
    "    return variance/len(scores)"
   ]
  },
  {
   "cell_type": "code",
   "execution_count": 136,
   "metadata": {},
   "outputs": [
    {
     "data": {
      "text/plain": [
       "334.0710059171598"
      ]
     },
     "execution_count": 136,
     "metadata": {},
     "output_type": "execute_result"
    }
   ],
   "source": [
    "data_variance(data)"
   ]
  },
  {
   "cell_type": "markdown",
   "metadata": {},
   "source": [
    "### Step 5 : Calculate the Standard Deviation"
   ]
  },
  {
   "cell_type": "code",
   "execution_count": 138,
   "metadata": {},
   "outputs": [],
   "source": [
    "# The standard deviation comes by taking square root of the variance\n",
    "\n",
    "def data_std(variance):\n",
    "    return variance ** 0.5\n",
    "variance = data_variance(data)"
   ]
  },
  {
   "cell_type": "code",
   "execution_count": 137,
   "metadata": {},
   "outputs": [
    {
     "data": {
      "text/plain": [
       "18.277609414722697"
      ]
     },
     "execution_count": 137,
     "metadata": {},
     "output_type": "execute_result"
    }
   ],
   "source": [
    "data_std(variance)"
   ]
  },
  {
   "cell_type": "markdown",
   "metadata": {},
   "source": [
    "### Step 6 : Combine All Steps into One Code"
   ]
  },
  {
   "cell_type": "code",
   "execution_count": 139,
   "metadata": {},
   "outputs": [],
   "source": [
    "# First print the data list\n",
    "def print_data(data):\n",
    "    for item in data:\n",
    "        print(data)\n",
    "        \n",
    "# Calculate the sum\n",
    "def sum_data(data):\n",
    "    total = 0\n",
    "    for item in data: \n",
    "        total += item\n",
    "    return total\n",
    "\n",
    "# Take the Average/Mean by adding up each grade    \n",
    "def data_mean(data):\n",
    "    sum_of_data = sum_data(data)\n",
    "    mean = sum_of_data / float(len(data))\n",
    "    return mean\n",
    "\n",
    "# The Variance :subtracting each score from the average/mean and then taking square and rolling the sum. \n",
    "def data_variance(data):\n",
    "    mean = data_mean(data)\n",
    "    variance = 0\n",
    "    for item in data:\n",
    "        variance = variance + (mean - item) ** 2\n",
    "    \n",
    "    return variance/len(data)\n",
    "\n",
    "# The standard deviation comes by taking square root of the variance\n",
    "def data_std(variance):\n",
    "    return variance ** 0.5\n",
    "\n",
    "variance = data_variance(data)"
   ]
  },
  {
   "cell_type": "code",
   "execution_count": null,
   "metadata": {},
   "outputs": [],
   "source": []
  }
 ],
 "metadata": {
  "kernelspec": {
   "display_name": "Python 3",
   "language": "python",
   "name": "python3"
  },
  "language_info": {
   "codemirror_mode": {
    "name": "ipython",
    "version": 3
   },
   "file_extension": ".py",
   "mimetype": "text/x-python",
   "name": "python",
   "nbconvert_exporter": "python",
   "pygments_lexer": "ipython3",
   "version": "3.7.1"
  }
 },
 "nbformat": 4,
 "nbformat_minor": 2
}
