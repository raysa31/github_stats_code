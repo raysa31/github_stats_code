{
 "cells": [
  {
   "cell_type": "markdown",
   "metadata": {},
   "source": [
    "### Modus Value Code\n",
    "##### Data based on example in Powerpoint"
   ]
  },
  {
   "cell_type": "code",
   "execution_count": 1,
   "metadata": {},
   "outputs": [
    {
     "name": "stdout",
     "output_type": "stream",
     "text": [
      "[2]\n"
     ]
    }
   ],
   "source": [
    "x = [ 1,2,3,2,5,2,7,2 ]\n",
    "\n",
    "def getMode(list) :\n",
    "    countList = [];\n",
    "    # create countList\n",
    "    for num in list :\n",
    "        check = False;\n",
    "        for list1 in countList :\n",
    "            if(list1[0] == num) :\n",
    "                list1[1] += 1;\n",
    "                check = True;\n",
    "        if(check == False) :\n",
    "            countList.append([num, 0]);\n",
    "            \n",
    "    # create list of mode/s\n",
    "    maxFrequency = 0;\n",
    "    modes = [];\n",
    "    for list1 in countList :\n",
    "        if (list1[1] > maxFrequency) :\n",
    "            modes = [list1[0]];\n",
    "            maxFrequency = list1[1];\n",
    "        elif (list1[1] == maxFrequency) :\n",
    "            modes.append(list1[0]);\n",
    "            \n",
    "    # if every value appears same amount of times\n",
    "    if (len(modes) == len(countList)) :\n",
    "        modes = \"There is no mode for this dataset, values occur only once\";\n",
    "    return modes;\n",
    "\n",
    "print(getMode(x));"
   ]
  },
  {
   "cell_type": "markdown",
   "metadata": {},
   "source": [
    "### Modus & Least Value Code"
   ]
  },
  {
   "cell_type": "code",
   "execution_count": 3,
   "metadata": {},
   "outputs": [],
   "source": [
    "data = [ 1,2,3,2,5,2,7,2 ]"
   ]
  },
  {
   "cell_type": "markdown",
   "metadata": {},
   "source": [
    "### Step 1 : Find Unique Element"
   ]
  },
  {
   "cell_type": "code",
   "execution_count": 4,
   "metadata": {},
   "outputs": [
    {
     "name": "stdout",
     "output_type": "stream",
     "text": [
      "[1, 2, 3, 5, 7]\n"
     ]
    }
   ],
   "source": [
    "elements = list(set(data))\n",
    "\n",
    "print(elements)"
   ]
  },
  {
   "cell_type": "markdown",
   "metadata": {},
   "source": [
    "### Step 2 : Count the Frequency\n",
    "##### Idea :\n",
    "1. item in list\n",
    "2. for loop\n",
    "3. item filtering\n",
    "4. count function"
   ]
  },
  {
   "cell_type": "markdown",
   "metadata": {},
   "source": [
    "#### >> Step 2 : Item in List Method"
   ]
  },
  {
   "cell_type": "code",
   "execution_count": 6,
   "metadata": {},
   "outputs": [
    {
     "name": "stdout",
     "output_type": "stream",
     "text": [
      "{1: 1, 2: 4, 3: 1, 5: 1, 7: 1}\n"
     ]
    }
   ],
   "source": [
    "sum_elements = {}  #dictionary\n",
    "for element in elements:\n",
    "    \n",
    "    sum_element = 0\n",
    "    for i in data:\n",
    "        \n",
    "        if element == i:\n",
    "            sum_element += 1\n",
    "            \n",
    "    sum_elements [element] = sum_element\n",
    "\n",
    "print(sum_elements)"
   ]
  },
  {
   "cell_type": "markdown",
   "metadata": {},
   "source": [
    "#### >> Step 2 : Item Filtering Method"
   ]
  },
  {
   "cell_type": "code",
   "execution_count": 7,
   "metadata": {},
   "outputs": [
    {
     "name": "stdout",
     "output_type": "stream",
     "text": [
      "{1: 1, 2: 4, 3: 1, 5: 1, 7: 1}\n"
     ]
    }
   ],
   "source": [
    "sum_elements = {}\n",
    "for element in elements:\n",
    "    sum_element = len(list(filter(lambda x: element == x, data)))  #len digunakan untuk menghitung jumlah elemen setelah di filter\n",
    "    sum_elements[element] = sum_element\n",
    "    \n",
    "print(sum_elements)"
   ]
  },
  {
   "cell_type": "markdown",
   "metadata": {},
   "source": [
    "#### >> Step 2 : Count Function"
   ]
  },
  {
   "cell_type": "code",
   "execution_count": 9,
   "metadata": {},
   "outputs": [
    {
     "name": "stdout",
     "output_type": "stream",
     "text": [
      "{1: 1, 2: 4, 3: 1, 5: 1, 7: 1}\n"
     ]
    }
   ],
   "source": [
    "sum_elements = {}\n",
    "for element in elements:\n",
    "    sum_element = data.count(element)\n",
    "    sum_elements[element] = sum_element\n",
    "    \n",
    "print(sum_elements)"
   ]
  },
  {
   "cell_type": "markdown",
   "metadata": {},
   "source": [
    "### Step 3 : Sort Data Based on Sum"
   ]
  },
  {
   "cell_type": "code",
   "execution_count": 10,
   "metadata": {},
   "outputs": [
    {
     "name": "stdout",
     "output_type": "stream",
     "text": [
      "[1, 2, 3, 5, 7]\n"
     ]
    }
   ],
   "source": [
    "elements = list(sum_elements.keys())\n",
    "print(elements)"
   ]
  },
  {
   "cell_type": "code",
   "execution_count": 11,
   "metadata": {},
   "outputs": [
    {
     "name": "stdout",
     "output_type": "stream",
     "text": [
      "[1, 4, 1, 1, 1]\n"
     ]
    }
   ],
   "source": [
    "sum_elements = list(sum_elements.values())\n",
    "print(sum_elements)"
   ]
  },
  {
   "cell_type": "code",
   "execution_count": 12,
   "metadata": {},
   "outputs": [],
   "source": [
    "new_elements = []\n",
    "\n",
    "for iteration in range(5): #5 karena 5 data\n",
    "\n",
    "    idx_max = 0 \n",
    "    for idx in range(len(sum_elements)):\n",
    "\n",
    "        if sum_elements[idx] > sum_elements[idx_max]:\n",
    "            idx_max = idx\n",
    "\n",
    "    key = elements[idx_max]\n",
    "    value = sum_elements[idx_max]\n",
    "    new_elements.append((key, value))\n",
    "\n",
    "    #untuk menghapus (.pop) yang sudah diurutkan\n",
    "    elements.pop(idx_max)\n",
    "    sum_elements.pop(idx_max)"
   ]
  },
  {
   "cell_type": "markdown",
   "metadata": {},
   "source": [
    "### Step 4 : Finding Modes & Least Value"
   ]
  },
  {
   "cell_type": "code",
   "execution_count": 13,
   "metadata": {},
   "outputs": [
    {
     "name": "stdout",
     "output_type": "stream",
     "text": [
      "2\n",
      "7\n"
     ]
    }
   ],
   "source": [
    "modes = new_elements[0][0]\n",
    "least = new_elements[-1][0]\n",
    "\n",
    "print(modes)\n",
    "print (least)"
   ]
  },
  {
   "cell_type": "markdown",
   "metadata": {},
   "source": [
    "### Step 5 : Combine All Steps into One Code"
   ]
  },
  {
   "cell_type": "code",
   "execution_count": 14,
   "metadata": {},
   "outputs": [],
   "source": [
    "def modes_least(data):\n",
    "\n",
    "    # find unique element\n",
    "    elements = list(set(data))\n",
    "\n",
    "    # count the frequency\n",
    "    sum_elements = {}\n",
    "    for element in elements:\n",
    "        sum_element = data.count(element)\n",
    "        sum_elements[element] = sum_element\n",
    "    \n",
    "    #sort database on sum\n",
    "    elements = list(sum_elements.keys())\n",
    "    sum_elements = list(sum_elements.values())\n",
    "\n",
    "    new_elements = []\n",
    "\n",
    "    for iteration in range(5): #5 karena 5 data\n",
    "\n",
    "        idx_max = 0 \n",
    "        for idx in range(len(sum_elements)):\n",
    "\n",
    "            if sum_elements[idx] > sum_elements[idx_max]:\n",
    "                idx_max = idx\n",
    "\n",
    "        key = elements[idx_max]\n",
    "        value = sum_elements[idx_max]\n",
    "        new_elements.append((key, value))\n",
    "\n",
    "        #untuk menghapus (.pop) yang sudah diurutkan\n",
    "        elements.pop(idx_max)\n",
    "        sum_elements.pop(idx_max)\n",
    "    \n",
    "    modes = new_elements[0][0]\n",
    "    least = new_elements[-1][0]\n",
    "\n",
    "    return modes, least"
   ]
  },
  {
   "cell_type": "markdown",
   "metadata": {},
   "source": [
    "### Step 6 : Try Example Data Set"
   ]
  },
  {
   "cell_type": "code",
   "execution_count": 15,
   "metadata": {},
   "outputs": [
    {
     "data": {
      "text/plain": [
       "(4, 5)"
      ]
     },
     "execution_count": 15,
     "metadata": {},
     "output_type": "execute_result"
    }
   ],
   "source": [
    "data = [ 1,2,3,2,5,2,7,2,2,2,2,2,2,2,2,3,3,3,4,4,4,4,4,4,4,4,4,4,4,4,4,4 ]\n",
    "\n",
    "modes_least(data)"
   ]
  }
 ],
 "metadata": {
  "kernelspec": {
   "display_name": "Python 3",
   "language": "python",
   "name": "python3"
  },
  "language_info": {
   "codemirror_mode": {
    "name": "ipython",
    "version": 3
   },
   "file_extension": ".py",
   "mimetype": "text/x-python",
   "name": "python",
   "nbconvert_exporter": "python",
   "pygments_lexer": "ipython3",
   "version": "3.7.1"
  }
 },
 "nbformat": 4,
 "nbformat_minor": 2
}
